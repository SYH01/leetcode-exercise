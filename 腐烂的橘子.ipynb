{
 "cells": [
  {
   "cell_type": "code",
   "execution_count": 5,
   "metadata": {},
   "outputs": [],
   "source": [
    "from typing import List\n",
    "import collections;\n",
    "\n",
    "class Solution:\n",
    "    def orangesRotting(self, grid: List[List[int]]) -> int:\n",
    "        a=[[-1,0],[1,0],[0,-1],[0,1]];\n",
    "        R,C=len(grid),len(grid[0]);\n",
    "        minute=0;\n",
    "        q=collections.deque();\n",
    "        num,count=0,0;\n",
    "        for i in range(R):\n",
    "            for j in range(C):\n",
    "                if grid[i][j]==2:\n",
    "                    q.append([i,j]);\n",
    "                    num+=1;\n",
    "                if grid[i][j]==1:\n",
    "                    count+=1;\n",
    "        if num==0 and count==0:\n",
    "            return 0;\n",
    "        if num==0 and count!=0:\n",
    "            return -1;\n",
    "        while q:\n",
    "            minute+=1;\n",
    "            size=len(q);\n",
    "            for j in range(size):\n",
    "                node=q.popleft();\n",
    "                x,y=node[0],node[1];\n",
    "                for i in range(4):\n",
    "                    r=x+a[i][0];\n",
    "                    c=y+a[i][1];\n",
    "                    if 0<=r<R and 0<=c<C:\n",
    "                        if grid[r][c]==1:\n",
    "                            grid[r][c]=2;\n",
    "                            q.append([r,c]);\n",
    "        for i in range(R):\n",
    "            for j in range(C):\n",
    "                if grid[i][j]==1:\n",
    "                    return -1;\n",
    "        return minute-1;\n",
    "\n"
   ]
  },
  {
   "cell_type": "code",
   "execution_count": 1,
   "metadata": {},
   "outputs": [
    {
     "ename": "NameError",
     "evalue": "name 'Solution' is not defined",
     "output_type": "error",
     "traceback": [
      "\u001b[1;31m---------------------------------------------------------------------------\u001b[0m",
      "\u001b[1;31mNameError\u001b[0m                                 Traceback (most recent call last)",
      "\u001b[1;32m~\\AppData\\Local\\Temp\\ipykernel_11480\\2741848410.py\u001b[0m in \u001b[0;36m<module>\u001b[1;34m\u001b[0m\n\u001b[1;32m----> 1\u001b[1;33m \u001b[0ms\u001b[0m\u001b[1;33m=\u001b[0m\u001b[0mSolution\u001b[0m\u001b[1;33m(\u001b[0m\u001b[1;33m)\u001b[0m\u001b[1;33m;\u001b[0m\u001b[1;33m\u001b[0m\u001b[0m\n\u001b[0m\u001b[0;32m      2\u001b[0m \u001b[0mgrid\u001b[0m \u001b[1;33m=\u001b[0m \u001b[1;33m[\u001b[0m\u001b[1;33m[\u001b[0m\u001b[1;36m2\u001b[0m\u001b[1;33m,\u001b[0m\u001b[1;36m1\u001b[0m\u001b[1;33m,\u001b[0m\u001b[1;36m1\u001b[0m\u001b[1;33m]\u001b[0m\u001b[1;33m,\u001b[0m\u001b[1;33m[\u001b[0m\u001b[1;36m1\u001b[0m\u001b[1;33m,\u001b[0m\u001b[1;36m1\u001b[0m\u001b[1;33m,\u001b[0m\u001b[1;36m0\u001b[0m\u001b[1;33m]\u001b[0m\u001b[1;33m,\u001b[0m\u001b[1;33m[\u001b[0m\u001b[1;36m0\u001b[0m\u001b[1;33m,\u001b[0m\u001b[1;36m1\u001b[0m\u001b[1;33m,\u001b[0m\u001b[1;36m1\u001b[0m\u001b[1;33m]\u001b[0m\u001b[1;33m]\u001b[0m\u001b[1;33m;\u001b[0m\u001b[1;33m\u001b[0m\u001b[0m\n\u001b[0;32m      3\u001b[0m \u001b[0ms\u001b[0m\u001b[1;33m.\u001b[0m\u001b[0morangesRotting\u001b[0m\u001b[1;33m(\u001b[0m\u001b[0mgrid\u001b[0m\u001b[1;33m)\u001b[0m\u001b[1;33m\u001b[0m\u001b[0m\n",
      "\u001b[1;31mNameError\u001b[0m: name 'Solution' is not defined"
     ]
    }
   ],
   "source": [
    "s=Solution();\n",
    "grid = [[2,1,1],[1,1,0],[0,1,1]];\n",
    "s.orangesRotting(grid)"
   ]
  }
 ],
 "metadata": {
  "kernelspec": {
   "display_name": "Python 3.7.0 64-bit",
   "language": "python",
   "name": "python3"
  },
  "language_info": {
   "codemirror_mode": {
    "name": "ipython",
    "version": 3
   },
   "file_extension": ".py",
   "mimetype": "text/x-python",
   "name": "python",
   "nbconvert_exporter": "python",
   "pygments_lexer": "ipython3",
   "version": "3.7.0"
  },
  "orig_nbformat": 4,
  "vscode": {
   "interpreter": {
    "hash": "4ce603e464ab8bc3b3026eca193cff58a3d0088e762350a5b5a6a879ef843154"
   }
  }
 },
 "nbformat": 4,
 "nbformat_minor": 2
}
