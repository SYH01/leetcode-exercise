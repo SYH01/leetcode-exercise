{
 "cells": [
  {
   "cell_type": "code",
   "execution_count": 10,
   "metadata": {},
   "outputs": [],
   "source": [
    "from typing import List\n",
    "import collections;\n",
    "\n",
    "class Solution:\n",
    "    def numIslands(self, grid: List[List[str]]) -> int:\n",
    "        R,C=len(grid),len(grid[0]);\n",
    "        q=collections.deque();\n",
    "        nums=[[False for i in range(C)] for j in range(R)];\n",
    "        count=0;\n",
    "        for i in range(R):\n",
    "            for j in range(C):\n",
    "                if not nums[i][j]  and grid[i][j]==\"1\":\n",
    "                    q.append([i,j]);\n",
    "                    count+=1;\n",
    "                    while q:\n",
    "                        q1=q.popleft();\n",
    "                        r,c=q1[0],q1[1];\n",
    "                        if 0<=r-1<R and not nums[r-1][c] and grid[r-1][c]==\"1\":\n",
    "                            nums[r-1][c]=True;\n",
    "                            q.append([r-1,c]);\n",
    "                        if 0<=r+1<R and not nums[r+1][c] and grid[r+1][c]==\"1\":\n",
    "                            nums[r+1][c]=True;\n",
    "                            q.append([r+1,c]);\n",
    "                        if 0<=c-1<C and not nums[r][c-1] and grid[r][c-1]==\"1\":\n",
    "                            nums[r][c-1]=True;\n",
    "                            q.append([r,c-1]);\n",
    "                        if 0<=c+1<C and not nums[r][c+1] and grid[r][c+1]==\"1\":\n",
    "                            nums[r][c+1]=True;\n",
    "                            q.append([r,c+1]);\n",
    "        return count;\n",
    "                        "
   ]
  },
  {
   "cell_type": "code",
   "execution_count": 12,
   "metadata": {},
   "outputs": [
    {
     "name": "stdout",
     "output_type": "stream",
     "text": [
      "[[False, False, False, False, False], [False, False, False, False, False], [False, False, False, False, False], [False, False, False, False, False]]\n",
      "[[True, True, False, False, False], [True, True, False, False, False], [False, False, False, False, False], [False, False, False, True, True]]\n",
      "3\n"
     ]
    }
   ],
   "source": [
    "grid=[\n",
    "  [\"1\",\"1\",\"0\",\"0\",\"0\"],\n",
    "  [\"1\",\"1\",\"0\",\"0\",\"0\"],\n",
    "  [\"0\",\"0\",\"1\",\"0\",\"0\"],\n",
    "  [\"0\",\"0\",\"0\",\"1\",\"1\"]\n",
    "]\n",
    "s=Solution();\n",
    "s.numIslands(grid=grid);"
   ]
  }
 ],
 "metadata": {
  "kernelspec": {
   "display_name": "Python 3.7.0 64-bit",
   "language": "python",
   "name": "python3"
  },
  "language_info": {
   "codemirror_mode": {
    "name": "ipython",
    "version": 3
   },
   "file_extension": ".py",
   "mimetype": "text/x-python",
   "name": "python",
   "nbconvert_exporter": "python",
   "pygments_lexer": "ipython3",
   "version": "3.7.0"
  },
  "orig_nbformat": 4,
  "vscode": {
   "interpreter": {
    "hash": "4ce603e464ab8bc3b3026eca193cff58a3d0088e762350a5b5a6a879ef843154"
   }
  }
 },
 "nbformat": 4,
 "nbformat_minor": 2
}
