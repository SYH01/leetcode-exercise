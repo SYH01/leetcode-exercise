{
 "cells": [
  {
   "cell_type": "code",
   "execution_count": null,
   "metadata": {},
   "outputs": [],
   "source": [
    "from typing import List\n",
    "\n",
    "class Solution:\n",
    "    def allPathsSourceTarget(self, graph: List[List[int]]) -> List[List[int]]:\n",
    "        ans=[];\n",
    "        q=[];\n",
    "        length=len(graph);\n",
    "        \n",
    "        def dfs(x:int):\n",
    "            if x==length-1:\n",
    "                ans.append(q[:]);\n",
    "                return ;\n",
    "            for i in graph[x]:\n",
    "                q.append(i);\n",
    "                dfs(i);\n",
    "                q.pop();\n",
    "        \n",
    "        q.append(0);\n",
    "        dfs(0);\n",
    "        return ans;\n"
   ]
  }
 ],
 "metadata": {
  "language_info": {
   "name": "python"
  },
  "orig_nbformat": 4
 },
 "nbformat": 4,
 "nbformat_minor": 2
}
