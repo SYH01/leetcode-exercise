{
 "cells": [
  {
   "cell_type": "code",
   "execution_count": 4,
   "metadata": {},
   "outputs": [],
   "source": [
    "from typing import List\n",
    "\n",
    "class Solution:\n",
    "    def findAnagrams(self, s: str, p: str) -> List[int]:\n",
    "        s_len,p_len=len(s),len(p);\n",
    "        res=[];\n",
    "        countS=[0 for i in range(26)];\n",
    "        countP=[0 for i in range(26)];\n",
    "\n",
    "        if s_len<p_len:\n",
    "            return res;\n",
    "\n",
    "        for i in range(p_len):\n",
    "            countS[ord(s[i])-97]+=1;\n",
    "            countP[ord(p[i])-97]+=1;\n",
    "        if countP==countS:\n",
    "            res.append(0);\n",
    "        for i in range(s_len-p_len):\n",
    "            countS[ord(s[i])-97]-=1;\n",
    "            countS[ord(s[i+p_len])-97]+=1;\n",
    "            if countS==countP:\n",
    "                res.append(i+1);\n",
    "        return res;"
   ]
  },
  {
   "cell_type": "code",
   "execution_count": 8,
   "metadata": {},
   "outputs": [
    {
     "name": "stdout",
     "output_type": "stream",
     "text": [
      "True\n"
     ]
    }
   ],
   "source": [
    "print([1,2]==[1,2]);"
   ]
  },
  {
   "cell_type": "code",
   "execution_count": 6,
   "metadata": {},
   "outputs": [
    {
     "name": "stdout",
     "output_type": "stream",
     "text": [
      "65 97\n"
     ]
    }
   ],
   "source": [
    "#此方法超时，计算滑动窗口内所有值的ascll值的和,\n",
    "#已改进\n",
    "#此方法考虑不全，放弃\n",
    "class Solution:\n",
    "    def findAnagrams(self, s: str, p: str) -> List[int]:\n",
    "        sumS,sumP=0,0;\n",
    "        result=[];\n",
    "        if len(s)<len(p):\n",
    "            return [];\n",
    "\n",
    "        def getA(i):\n",
    "            for j in range(len(p)):\n",
    "                if s[i+j] not in p:\n",
    "                    return False;\n",
    "            return True;\n",
    "\n",
    "        for i in range(len(p)):\n",
    "            sumS+=ord(p[i]);\n",
    "            sumP+=ord(s[i]);\n",
    "        if sumS==sumP:\n",
    "            if getA(0):\n",
    "                result.append(0);\n",
    "        for i in range(len(s)-len(p)):\n",
    "            sumS-=ord(s[i]);\n",
    "            sumS+=ord(s[i+len(p)]);\n",
    "            if sumS==sumP:\n",
    "                if getA(i+1):\n",
    "                    result.append(i+1);\n",
    "            \n",
    "        return result;"
   ]
  },
  {
   "cell_type": "code",
   "execution_count": 7,
   "metadata": {},
   "outputs": [
    {
     "name": "stdout",
     "output_type": "stream",
     "text": [
      "97 65\n"
     ]
    }
   ],
   "source": [
    "print(ord(\"a\"),ord(\"A\"));\n"
   ]
  }
 ],
 "metadata": {
  "kernelspec": {
   "display_name": "Python 3.7.0 64-bit",
   "language": "python",
   "name": "python3"
  },
  "language_info": {
   "codemirror_mode": {
    "name": "ipython",
    "version": 3
   },
   "file_extension": ".py",
   "mimetype": "text/x-python",
   "name": "python",
   "nbconvert_exporter": "python",
   "pygments_lexer": "ipython3",
   "version": "3.7.0"
  },
  "orig_nbformat": 4,
  "vscode": {
   "interpreter": {
    "hash": "4ce603e464ab8bc3b3026eca193cff58a3d0088e762350a5b5a6a879ef843154"
   }
  }
 },
 "nbformat": 4,
 "nbformat_minor": 2
}
