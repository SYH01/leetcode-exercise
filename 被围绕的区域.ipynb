{
 "cells": [
  {
   "cell_type": "code",
   "execution_count": 3,
   "metadata": {},
   "outputs": [],
   "source": [
    "from typing import List\n",
    "import collections;\n",
    "\n",
    "class Solution:\n",
    "    def solve(self, board: List[List[str]]) -> None:\n",
    "        R,C=len(board),len(board[0]);\n",
    "        q=collections.deque();\n",
    "        a=[[-1,0],[1,0],[0,-1],[0,1]];\n",
    "        for i in range(R):\n",
    "            if board[i][0]==\"O\":\n",
    "                board[i][0]=\"A\";\n",
    "                q.append([i,0]);\n",
    "            if board[i][C-1]==\"O\":\n",
    "                board[i][C-1]=\"A\";\n",
    "                q.append([i,C-1]);\n",
    "        for i in range(C):\n",
    "            if board[0][i]==\"O\":\n",
    "                board[0][i]=\"A\";\n",
    "                q.append([0,i]);\n",
    "            if board[R-1][i]==\"O\":\n",
    "                board[R-1][i]=\"A\";\n",
    "                q.append([R-1,i]);\n",
    "        while q:\n",
    "            temp=q.popleft();\n",
    "            for i in range(len(a)):\n",
    "                r=temp[0]+a[i][0];\n",
    "                c=temp[1]+a[i][1];\n",
    "                if 0<=r<R and 0<=c<C and board[r][c]==\"O\":\n",
    "                    q.append([r,c]);\n",
    "                    board[r][c]=\"A\";\n",
    "        for i in range(R):\n",
    "            for j in range(C):\n",
    "                if board[i][j]==\"O\":\n",
    "                    board[i][j]=\"X\";\n",
    "                if board[i][j]==\"A\":\n",
    "                    board[i][j]=\"O\";"
   ]
  },
  {
   "cell_type": "code",
   "execution_count": 6,
   "metadata": {},
   "outputs": [],
   "source": [
    "s=Solution();\n",
    "a=[[\"X\",\"O\",\"X\",\"O\",\"X\",\"O\"],[\"O\",\"X\",\"X\",\"X\",\"X\",\"X\"],[\"X\",\"X\",\"X\",\"X\",\"X\",\"O\"],[\"O\",\"X\",\"O\",\"X\",\"O\",\"X\"]];\n",
    "s.solve(a);"
   ]
  }
 ],
 "metadata": {
  "kernelspec": {
   "display_name": "Python 3.7.0 64-bit",
   "language": "python",
   "name": "python3"
  },
  "language_info": {
   "codemirror_mode": {
    "name": "ipython",
    "version": 3
   },
   "file_extension": ".py",
   "mimetype": "text/x-python",
   "name": "python",
   "nbconvert_exporter": "python",
   "pygments_lexer": "ipython3",
   "version": "3.7.0"
  },
  "orig_nbformat": 4,
  "vscode": {
   "interpreter": {
    "hash": "4ce603e464ab8bc3b3026eca193cff58a3d0088e762350a5b5a6a879ef843154"
   }
  }
 },
 "nbformat": 4,
 "nbformat_minor": 2
}
