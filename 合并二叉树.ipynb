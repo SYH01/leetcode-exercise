{
 "cells": [
  {
   "cell_type": "code",
   "execution_count": 12,
   "metadata": {},
   "outputs": [],
   "source": [
    "# Definition for a binary tree node.\n",
    "from typing import Optional\n",
    "###第一种垃圾方法\n",
    "\n",
    "class TreeNode:\n",
    "    def __init__(self, val=0, left=None, right=None):\n",
    "        self.val = val\n",
    "        self.left = left\n",
    "        self.right = right\n",
    "\n",
    "class Solution:\n",
    "    def mergeTrees(self, root1: Optional[TreeNode], root2: Optional[TreeNode]) -> Optional[TreeNode]:\n",
    "        \n",
    "        def merge(r1:Optional[TreeNode],r2:Optional[TreeNode]):\n",
    "            if r1 and r2 is not None:\n",
    "                if r1 is None:\n",
    "                    r1=TreeNode(val=r2.val,left=None,right=None);\n",
    "                    if r2.left is not None:\n",
    "                        r1.left=TreeNode(val=0);\n",
    "                    if r2.right is not None:\n",
    "                        r1.right=TreeNode(val=0);\n",
    "                    merge(r1.left,r2.left);\n",
    "                    merge(r1.right,r2.right);    \n",
    "                elif r2 is None:\n",
    "                    None;\n",
    "                else:\n",
    "\n",
    "                    if r1.left is None and r2.left is not None:\n",
    "                        r1.left=TreeNode(val=0);\n",
    "                    if r1.right is None and r2.right is not None:\n",
    "                        r1.right=TreeNode(val=0);\n",
    "                    r1.val+=r2.val;\n",
    "                    merge(r1.left,r2.left);\n",
    "                    merge(r1.right,r2.right); \n",
    "                \n",
    "            else:\n",
    "                None;\n",
    "        if root1 is None and root2 is not None:\n",
    "            root1=TreeNode(val=0,left=None,right=None);\n",
    "        merge(root1,root2);\n",
    "        return root1;\n"
   ]
  },
  {
   "cell_type": "code",
   "execution_count": null,
   "metadata": {},
   "outputs": [],
   "source": [
    "class Solution:\n",
    "    def mergeTrees(self, root1: Optional[TreeNode], root2: Optional[TreeNode]) -> Optional[TreeNode]:\n",
    "        if root1 is None:\n",
    "            return root2;\n",
    "        if root2 is None:\n",
    "            return root1;\n",
    "        t1=TreeNode(val=root1.val+root2.val);\n",
    "        t1.left=self.mergeTrees(root1.left,root2.left);\n",
    "        t1.right=self.mergeTrees(root1.right,root2.right);\n",
    "        return t1;"
   ]
  },
  {
   "cell_type": "code",
   "execution_count": null,
   "metadata": {},
   "outputs": [],
   "source": []
  }
 ],
 "metadata": {
  "kernelspec": {
   "display_name": "Python 3.7.0 64-bit",
   "language": "python",
   "name": "python3"
  },
  "language_info": {
   "codemirror_mode": {
    "name": "ipython",
    "version": 3
   },
   "file_extension": ".py",
   "mimetype": "text/x-python",
   "name": "python",
   "nbconvert_exporter": "python",
   "pygments_lexer": "ipython3",
   "version": "3.7.0"
  },
  "orig_nbformat": 4,
  "vscode": {
   "interpreter": {
    "hash": "4ce603e464ab8bc3b3026eca193cff58a3d0088e762350a5b5a6a879ef843154"
   }
  }
 },
 "nbformat": 4,
 "nbformat_minor": 2
}
