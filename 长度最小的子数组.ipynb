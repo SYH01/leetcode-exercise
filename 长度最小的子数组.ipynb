{
 "cells": [
  {
   "cell_type": "code",
   "execution_count": 1,
   "metadata": {},
   "outputs": [],
   "source": [
    "from typing import List\n",
    "##经过三版的修改，终于不超时了，这么完美的代码竟然是我写出来的\n",
    "##滑动窗口内的所有元素的和为sum，大于target时left右移，小于target时right右移\n",
    "\n",
    "class Solution:\n",
    "    def minSubArrayLen(self, target: int, nums: List[int]) -> int:\n",
    "        len_nums=len(nums);\n",
    "        sum,count=0,len_nums+1;\n",
    "        left,right=0,0;\n",
    "        while 0<=left<=right<=len_nums-1:\n",
    "            sum=sum+nums[right];\n",
    "            if sum>=target:\n",
    "                count=min(count,right-left+1);\n",
    "                left=left+1;\n",
    "                sum=sum-nums[left-1]-nums[right];\n",
    "            else:\n",
    "                right+=1;\n",
    "        if count==len_nums+1:\n",
    "            return 0;\n",
    "        else:\n",
    "            return count;"
   ]
  },
  {
   "cell_type": "code",
   "execution_count": 8,
   "metadata": {},
   "outputs": [],
   "source": [
    "class Solution:\n",
    "    def minSubArrayLen(self, target: int, nums: List[int]) -> int:\n",
    "        len_nums=len(nums);\n",
    "        num=0;\n",
    "        for i in range(len_nums):\n",
    "            num+=nums[i];\n",
    "            if num>=target:\n",
    "                break;\n",
    "        if num<target:\n",
    "            return 0;\n",
    "        for i in range(len_nums):\n",
    "            sum=0;\n",
    "            for k in range(i+1):\n",
    "                sum+=nums[k];\n",
    "                if sum>=target:\n",
    "                    return i+1;\n",
    "            for j in range(len_nums-i-1):\n",
    "                sum=sum-nums[j]+nums[j+i+1];\n",
    "                if sum>=target:\n",
    "                    return i+1;\n",
    "        return 0;\n"
   ]
  },
  {
   "cell_type": "code",
   "execution_count": 10,
   "metadata": {},
   "outputs": [],
   "source": [
    "s=Solution();\n",
    "s.minSubArrayLen(7,[2,3,1,2,4,3]);"
   ]
  },
  {
   "cell_type": "code",
   "execution_count": 3,
   "metadata": {},
   "outputs": [],
   "source": [
    "class Solution:\n",
    "    def minSubArrayLen(self, target: int, nums: List[int]) -> int:\n",
    "        len_nums=len(nums);\n",
    "        count=len_nums+1;\n",
    "        for i in range(len_nums):\n",
    "            sum=0;\n",
    "            for j in range(len_nums-i):\n",
    "                sum+=nums[i+j];\n",
    "                if sum>=target:\n",
    "                    count=min(count,j+1);\n",
    "                    break;\n",
    "        if count==len_nums+1:\n",
    "            return 0;\n",
    "        else:\n",
    "            return count;"
   ]
  }
 ],
 "metadata": {
  "kernelspec": {
   "display_name": "Python 3.7.0 64-bit",
   "language": "python",
   "name": "python3"
  },
  "language_info": {
   "codemirror_mode": {
    "name": "ipython",
    "version": 3
   },
   "file_extension": ".py",
   "mimetype": "text/x-python",
   "name": "python",
   "nbconvert_exporter": "python",
   "pygments_lexer": "ipython3",
   "version": "3.7.0"
  },
  "orig_nbformat": 4,
  "vscode": {
   "interpreter": {
    "hash": "4ce603e464ab8bc3b3026eca193cff58a3d0088e762350a5b5a6a879ef843154"
   }
  }
 },
 "nbformat": 4,
 "nbformat_minor": 2
}
