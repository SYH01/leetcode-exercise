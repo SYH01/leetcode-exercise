{
 "cells": [
  {
   "cell_type": "code",
   "execution_count": 7,
   "metadata": {},
   "outputs": [],
   "source": [
    "from typing import List\n",
    "\n",
    "\n",
    "class Solution:\n",
    "    def searchRange(self, nums: List[int], target: int) -> List[int]:\n",
    "        left,right=0,len(nums)-1;\n",
    "        a=[-1,-1];\n",
    "        mid=(left+right)//2;\n",
    "        t=False;\n",
    "        while left<=right:\n",
    "            if nums[mid]==target:\n",
    "                t=True;\n",
    "                break;\n",
    "            elif nums[mid]>target:\n",
    "                right=mid-1;\n",
    "            else:\n",
    "                left=mid+1;\n",
    "            mid=(left+right)//2;\n",
    "\n",
    "        if t:\n",
    "            while nums[mid]==target:\n",
    "                a[0]=mid;\n",
    "                mid-=1;\n",
    "                if not left<=mid<=right:\n",
    "                    break;\n",
    "            mid+=1;\n",
    "            while nums[mid]==target:\n",
    "                a[1]=mid;\n",
    "                mid+=1;\n",
    "                if not left<=mid<=right:\n",
    "                    break;\n",
    "        return a;"
   ]
  },
  {
   "cell_type": "code",
   "execution_count": 8,
   "metadata": {},
   "outputs": [],
   "source": [
    "s=Solution();\n",
    "s.searchRange([5,7,7,8,8,10],6);"
   ]
  }
 ],
 "metadata": {
  "kernelspec": {
   "display_name": "Python 3.7.0 64-bit",
   "language": "python",
   "name": "python3"
  },
  "language_info": {
   "codemirror_mode": {
    "name": "ipython",
    "version": 3
   },
   "file_extension": ".py",
   "mimetype": "text/x-python",
   "name": "python",
   "nbconvert_exporter": "python",
   "pygments_lexer": "ipython3",
   "version": "3.7.0"
  },
  "orig_nbformat": 4,
  "vscode": {
   "interpreter": {
    "hash": "4ce603e464ab8bc3b3026eca193cff58a3d0088e762350a5b5a6a879ef843154"
   }
  }
 },
 "nbformat": 4,
 "nbformat_minor": 2
}
