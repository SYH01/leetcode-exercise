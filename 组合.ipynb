{
 "cells": [
  {
   "cell_type": "code",
   "execution_count": 6,
   "metadata": {},
   "outputs": [],
   "source": [
    "from typing import List#不会写\n",
    "\n",
    "class Solution:\n",
    "    def combine(self, n: int, k: int) -> List[List[int]]:\n",
    "        result=[];\n",
    "        \n",
    "        def AAA(a,b): #比如a=1,b=4,return:[1,2][1,3][1,4]\n",
    "            r=list();\n",
    "            for i in range(a+1,b+1):\n",
    "                r.append([a,i]);\n",
    "            print(r);\n",
    "        for i in range(1,n):\n",
    "            AAA(i,n);\n"
   ]
  },
  {
   "cell_type": "code",
   "execution_count": 7,
   "metadata": {},
   "outputs": [
    {
     "name": "stdout",
     "output_type": "stream",
     "text": [
      "[[1, 2], [1, 3], [1, 4]]\n",
      "[[2, 3], [2, 4]]\n",
      "[[3, 4]]\n"
     ]
    }
   ],
   "source": [
    "s=Solution();\n",
    "s.combine(4,2);"
   ]
  }
 ],
 "metadata": {
  "kernelspec": {
   "display_name": "Python 3.7.0 64-bit",
   "language": "python",
   "name": "python3"
  },
  "language_info": {
   "codemirror_mode": {
    "name": "ipython",
    "version": 3
   },
   "file_extension": ".py",
   "mimetype": "text/x-python",
   "name": "python",
   "nbconvert_exporter": "python",
   "pygments_lexer": "ipython3",
   "version": "3.7.0"
  },
  "orig_nbformat": 4,
  "vscode": {
   "interpreter": {
    "hash": "4ce603e464ab8bc3b3026eca193cff58a3d0088e762350a5b5a6a879ef843154"
   }
  }
 },
 "nbformat": 4,
 "nbformat_minor": 2
}
