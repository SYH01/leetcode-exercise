{
 "cells": [
  {
   "cell_type": "code",
   "execution_count": 8,
   "metadata": {},
   "outputs": [],
   "source": [
    "from typing import List\n",
    "\n",
    "\n",
    "class Solution:\n",
    "    def threeSum(self, nums: List[int]) -> List[List[int]]:\n",
    "        nums.sort();\n",
    "        result=[];\n",
    "        for i in range(len(nums)-2):\n",
    "            if nums[i]>0:\n",
    "                return result;\n",
    "            if i>0 and nums[i]==nums[i-1]:\n",
    "                continue;\n",
    "            left=i+1;\n",
    "            right=len(nums)-1;\n",
    "            while left<right:\n",
    "                if nums[i]+nums[left]+nums[right]==0:\n",
    "                    result.append([nums[i],nums[left],nums[right]]);\n",
    "                    while left<right and nums[left]==nums[left+1]:\n",
    "                        left=left+1;\n",
    "                    while left<right and nums[right]==nums[right-1]:\n",
    "                        right=right-1;\n",
    "                    left=left+1;\n",
    "                    right=right-1;\n",
    "                elif nums[i]+nums[left]+nums[right]>0:\n",
    "                    right-=1;\n",
    "                else:\n",
    "                    left+=1;\n",
    "        return result;\n"
   ]
  },
  {
   "cell_type": "code",
   "execution_count": 9,
   "metadata": {},
   "outputs": [
    {
     "name": "stdout",
     "output_type": "stream",
     "text": [
      "[-4, -1, -1, 0, 1, 2]\n"
     ]
    }
   ],
   "source": [
    "s=Solution();\n",
    "s.threeSum([-1,0,1,2,-1,-4]);"
   ]
  }
 ],
 "metadata": {
  "kernelspec": {
   "display_name": "Python 3.7.0 64-bit",
   "language": "python",
   "name": "python3"
  },
  "language_info": {
   "codemirror_mode": {
    "name": "ipython",
    "version": 3
   },
   "file_extension": ".py",
   "mimetype": "text/x-python",
   "name": "python",
   "nbconvert_exporter": "python",
   "pygments_lexer": "ipython3",
   "version": "3.7.0"
  },
  "orig_nbformat": 4,
  "vscode": {
   "interpreter": {
    "hash": "4ce603e464ab8bc3b3026eca193cff58a3d0088e762350a5b5a6a879ef843154"
   }
  }
 },
 "nbformat": 4,
 "nbformat_minor": 2
}
