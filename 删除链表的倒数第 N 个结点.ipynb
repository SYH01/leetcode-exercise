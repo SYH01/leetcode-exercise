{
 "cells": [
  {
   "cell_type": "code",
   "execution_count": null,
   "metadata": {},
   "outputs": [],
   "source": [
    "# Definition for singly-linked list.\n",
    "# 0,head,1,2,3,4........n\n",
    "# 0,head,...p1...n...p2\n",
    "class ListNode:\n",
    "    def __init__(self, val=0, next=None):\n",
    "        self.val = val\n",
    "        self.next = next\n",
    "class Solution:\n",
    "    def removeNthFromEnd(self, head: Optional[ListNode], n: int) -> Optional[ListNode]:\n",
    "        dummy=ListNode(0,head);\n",
    "        p1=dummy;\n",
    "        p2=head;\n",
    "        for i in range(n) :\n",
    "            p2=p2.next;\n",
    "        while p2 :\n",
    "            p1=p1.next;\n",
    "            p2=p2.next;\n",
    "        p1.next=p1.next.next;\n",
    "        return dummy.next;"
   ]
  }
 ],
 "metadata": {
  "language_info": {
   "name": "python"
  },
  "orig_nbformat": 4
 },
 "nbformat": 4,
 "nbformat_minor": 2
}
