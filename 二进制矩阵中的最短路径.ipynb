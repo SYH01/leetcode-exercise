{
 "cells": [
  {
   "cell_type": "code",
   "execution_count": 10,
   "metadata": {},
   "outputs": [],
   "source": [
    "from typing import List\n",
    "import collections;\n",
    "\n",
    "class Solution:\n",
    "    def shortestPathBinaryMatrix(self, grid: List[List[int]]) -> int:\n",
    "        if len(grid)==1 and grid[0][0]==0:\n",
    "            return 1;\n",
    "\n",
    "        length=len(grid);\n",
    "        if grid[0][0]!=0 or grid[length-1][length-1]!=0:\n",
    "            return -1;\n",
    "        \n",
    "        isNo=[[False for i in range(length)] for j in range(length)];\n",
    "        q=collections.deque();\n",
    "        q.append([0,0]);\n",
    "        isNo[0][0]=True;\n",
    "        steps=1;\n",
    "        while q:\n",
    "            size=len(q);\n",
    "            for k in range(size):\n",
    "                temp=q.popleft();\n",
    "                for i in [[-1,0],[1,0],[0,-1],[0,1],[-1,-1],[-1,1],[1,-1],[1,1]]:\n",
    "                    r=temp[0]+i[0];\n",
    "                    c=temp[1]+i[1];\n",
    "                    if r==length-1 and c==length-1:\n",
    "                        return steps+1;\n",
    "                    if 0<=r<length and 0<=c<length and grid[r][c]==0 and not isNo[r][c]:\n",
    "                        isNo[r][c]=True;\n",
    "                        q.append([r,c]);\n",
    "\n",
    "            steps+=1;\n",
    "        return -1;"
   ]
  },
  {
   "cell_type": "code",
   "execution_count": 9,
   "metadata": {},
   "outputs": [
    {
     "name": "stdout",
     "output_type": "stream",
     "text": [
      "[1, 2, 1, 2, 1, 2]\n"
     ]
    }
   ],
   "source": [
    "# for i in [[-1,0],[1,0],[0,-1],[0,1],[-1,-1],[-1,1],[1,-1],[1,1]]:\n",
    "#     print(i,i[0],i[1]);\n",
    "a=[1,2]*3;\n",
    "print(a);"
   ]
  }
 ],
 "metadata": {
  "kernelspec": {
   "display_name": "Python 3.7.0 64-bit",
   "language": "python",
   "name": "python3"
  },
  "language_info": {
   "codemirror_mode": {
    "name": "ipython",
    "version": 3
   },
   "file_extension": ".py",
   "mimetype": "text/x-python",
   "name": "python",
   "nbconvert_exporter": "python",
   "pygments_lexer": "ipython3",
   "version": "3.7.0"
  },
  "orig_nbformat": 4,
  "vscode": {
   "interpreter": {
    "hash": "4ce603e464ab8bc3b3026eca193cff58a3d0088e762350a5b5a6a879ef843154"
   }
  }
 },
 "nbformat": 4,
 "nbformat_minor": 2
}
