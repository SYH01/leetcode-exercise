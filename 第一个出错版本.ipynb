{
 "cells": [
  {
   "cell_type": "code",
   "execution_count": 69,
   "metadata": {},
   "outputs": [
    {
     "name": "stdout",
     "output_type": "stream",
     "text": [
      "while开始：\n",
      "mid:,left:,right:\n",
      "2\n",
      "1\n",
      "3\n",
      "mid:,left:,right:\n",
      "1\n",
      "1\n",
      "2\n"
     ]
    }
   ],
   "source": [
    "def isBadVersion(n: int) ->bool:\n",
    "    if n==1:\n",
    "        return False;\n",
    "    if n==2:\n",
    "        return True;\n",
    "    if n==3:\n",
    "        return True;\n",
    "    \n",
    "\n",
    "class Solution:\n",
    "    def firstBadVersion(self, n: int) -> int:\n",
    "        right = n;    #2\n",
    "        left = 1;   \n",
    "        \n",
    "        print(\"while开始：\")\n",
    "        while left<right :\n",
    "            mid=(left+right)//2;\n",
    "            print(\"mid:\"+\",left:\"+\",right:\")\n",
    "            print(mid)\n",
    "            print(left)\n",
    "            print(right)\n",
    "            if right==(left+1) and isBadVersion(left)==False and isBadVersion(right)==True :\n",
    "                return right;\n",
    "            elif isBadVersion(mid) ==True :\n",
    "                right=mid;\n",
    "            elif isBadVersion(mid) ==False :\n",
    "                left=mid;\n",
    "        return left;\n",
    "\n",
    "a=Solution();\n",
    "a.firstBadVersion(n=3);"
   ]
  },
  {
   "cell_type": "code",
   "execution_count": 47,
   "metadata": {},
   "outputs": [
    {
     "name": "stdout",
     "output_type": "stream",
     "text": [
      "False\n",
      "666\n"
     ]
    }
   ],
   "source": [
    "if isBadVersion(2):\n",
    "    print(isBadVersion(1))\n",
    "    print(666)"
   ]
  },
  {
   "cell_type": "code",
   "execution_count": 68,
   "metadata": {},
   "outputs": [
    {
     "data": {
      "text/plain": [
       "2"
      ]
     },
     "execution_count": 68,
     "metadata": {},
     "output_type": "execute_result"
    }
   ],
   "source": [
    "4//2"
   ]
  }
 ],
 "metadata": {
  "kernelspec": {
   "display_name": "Python 3.7.0 64-bit",
   "language": "python",
   "name": "python3"
  },
  "language_info": {
   "codemirror_mode": {
    "name": "ipython",
    "version": 3
   },
   "file_extension": ".py",
   "mimetype": "text/x-python",
   "name": "python",
   "nbconvert_exporter": "python",
   "pygments_lexer": "ipython3",
   "version": "3.7.0"
  },
  "orig_nbformat": 4,
  "vscode": {
   "interpreter": {
    "hash": "4ce603e464ab8bc3b3026eca193cff58a3d0088e762350a5b5a6a879ef843154"
   }
  }
 },
 "nbformat": 4,
 "nbformat_minor": 2
}
