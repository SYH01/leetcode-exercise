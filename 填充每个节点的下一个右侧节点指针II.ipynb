{
 "cells": [
  {
   "cell_type": "code",
   "execution_count": 5,
   "metadata": {},
   "outputs": [],
   "source": [
    "import collections;\n",
    "# Definition for a Node.\n",
    "class Node:\n",
    "    def __init__(self, val: int = 0, left: 'Node' = None, right: 'Node' = None, next: 'Node' = None):\n",
    "        self.val = val\n",
    "        self.left = left\n",
    "        self.right = right\n",
    "        self.next = next\n",
    "\n",
    "\n",
    "class Solution:\n",
    "    def connect(self, root: 'Node') -> 'Node':\n",
    "        if root:\n",
    "            countNum=[];#每层结点个数\n",
    "            countNext=1;#下层的节点个数\n",
    "            max=0;\n",
    "            q=collections.deque();\n",
    "            q.append(root);\n",
    "            while q:\n",
    "                temp=q.popleft();\n",
    "                countNext-=1;\n",
    "                if countNext>0:\n",
    "                    temp.next=q[0];\n",
    "                    print(temp.next,temp.next.val);\n",
    "                if temp.left:\n",
    "                    max+=1;\n",
    "                    q.append(temp.left);\n",
    "                if temp.right:\n",
    "                    max+=1;\n",
    "                    q.append(temp.right);\n",
    "                if countNext==0:#说明上一层的结点全部遍历过了\n",
    "                    countNext=max;\n",
    "                    max=0;\n",
    "        return root;"
   ]
  },
  {
   "cell_type": "code",
   "execution_count": 6,
   "metadata": {},
   "outputs": [
    {
     "name": "stdout",
     "output_type": "stream",
     "text": [
      "<__main__.Node object at 0x000001D6BC8B2400> 3\n",
      "<__main__.Node object at 0x000001D6BC8B2C88> 5\n",
      "<__main__.Node object at 0x000001D6BC8B22B0> 7\n"
     ]
    }
   ],
   "source": [
    "root=Node(1,Node(2,Node(4),Node(5)),Node(3,right=Node(7)));\n",
    "s=Solution();\n",
    "s.connect(root);"
   ]
  }
 ],
 "metadata": {
  "kernelspec": {
   "display_name": "Python 3.7.0 64-bit",
   "language": "python",
   "name": "python3"
  },
  "language_info": {
   "codemirror_mode": {
    "name": "ipython",
    "version": 3
   },
   "file_extension": ".py",
   "mimetype": "text/x-python",
   "name": "python",
   "nbconvert_exporter": "python",
   "pygments_lexer": "ipython3",
   "version": "3.7.0"
  },
  "orig_nbformat": 4,
  "vscode": {
   "interpreter": {
    "hash": "4ce603e464ab8bc3b3026eca193cff58a3d0088e762350a5b5a6a879ef843154"
   }
  }
 },
 "nbformat": 4,
 "nbformat_minor": 2
}
