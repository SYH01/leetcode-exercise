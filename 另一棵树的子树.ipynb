{
 "cells": [
  {
   "cell_type": "code",
   "execution_count": 14,
   "metadata": {},
   "outputs": [],
   "source": [
    "# Definition for a binary tree node.\n",
    "#深度搜索，将root中每个结点的子树都与目标子树进行比较\n",
    "from typing import List, Optional\n",
    "\n",
    "\n",
    "class TreeNode:\n",
    "    def __init__(self, val=0, left=None, right=None):\n",
    "        self.val = val\n",
    "        self.left = left\n",
    "        self.right = right\n",
    "        \n",
    "class Solution:\n",
    "    def isSubtree(self, root: Optional[TreeNode], subRoot: Optional[TreeNode]) -> bool:\n",
    "        def check(node1:TreeNode,node2:TreeNode):\n",
    "            if not node1 and not node2:\n",
    "                return True;\n",
    "            if not node1 or not node2 or node1.val!=node2.val:\n",
    "                return False;\n",
    "            return check(node1.left,node2.left) and check(node1.right,node2.right);\n",
    "\n",
    "        def dfs(node1:TreeNode,node2:TreeNode):\n",
    "            if not node1:\n",
    "                return False;\n",
    "            if check(node1,node2) or dfs(node1.left,node2) or dfs(node1.right,node2):\n",
    "                return True;\n",
    "\n",
    "        if dfs(root,subRoot):\n",
    "            return True;\n",
    "        else:\n",
    "            return False;"
   ]
  },
  {
   "cell_type": "code",
   "execution_count": 15,
   "metadata": {},
   "outputs": [
    {
     "name": "stdout",
     "output_type": "stream",
     "text": [
      "True\n"
     ]
    }
   ],
   "source": [
    "root=TreeNode(3,TreeNode(4,TreeNode(1),TreeNode(2)),TreeNode(5));\n",
    "subRoot=TreeNode(4,TreeNode(1),TreeNode(2));\n",
    "s=Solution();\n",
    "print(s.isSubtree(root,subRoot))"
   ]
  },
  {
   "cell_type": "code",
   "execution_count": null,
   "metadata": {},
   "outputs": [],
   "source": [
    "#错误解法（不舍得删）\n",
    "class Solution:\n",
    "    def isSubtree(self, root: Optional[TreeNode], subRoot: Optional[TreeNode]) -> bool:\n",
    "        num1,num2=[],[];\n",
    "        def dfs(n:TreeNode,num:List):\n",
    "            num.append(n.val);\n",
    "            if n.left:\n",
    "                dfs(n.left,num);\n",
    "            if n.right:\n",
    "                dfs(n.right,num);\n",
    "\n",
    "\n",
    "        dfs(root,num1);\n",
    "        dfs(subRoot,num2);\n",
    "        print(num1);\n",
    "        print(num2);\n",
    "        i,j=0,0;\n",
    "        \n",
    "        def isChild(a,b):\n",
    "            while a<len(num1) and b<len(num2):\n",
    "                if  num1[a]==num2[b]:\n",
    "                    a+=1;\n",
    "                    b+=1;\n",
    "                else:\n",
    "                    return False;\n",
    "            return True;\n",
    "\n",
    "\n",
    "\n",
    "        for i in range(len(num1)):\n",
    "            if num1[i]==num2[0]:\n",
    "                if isChild(i,0):\n",
    "                    return True;\n",
    "        return False;"
   ]
  }
 ],
 "metadata": {
  "kernelspec": {
   "display_name": "Python 3.7.0 64-bit",
   "language": "python",
   "name": "python3"
  },
  "language_info": {
   "codemirror_mode": {
    "name": "ipython",
    "version": 3
   },
   "file_extension": ".py",
   "mimetype": "text/x-python",
   "name": "python",
   "nbconvert_exporter": "python",
   "pygments_lexer": "ipython3",
   "version": "3.7.0"
  },
  "orig_nbformat": 4,
  "vscode": {
   "interpreter": {
    "hash": "4ce603e464ab8bc3b3026eca193cff58a3d0088e762350a5b5a6a879ef843154"
   }
  }
 },
 "nbformat": 4,
 "nbformat_minor": 2
}
