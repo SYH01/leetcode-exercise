{
 "cells": [
  {
   "cell_type": "code",
   "execution_count": null,
   "metadata": {},
   "outputs": [],
   "source": [
    "from typing import List\n",
    "\n",
    "\n",
    "class Solution:\n",
    "    def floodFill(self, image: List[List[int]], sr: int, sc: int, color: int) -> List[List[int]]:\n",
    "        R,C=len(image),len(image[0]);\n",
    "        num=image[sr][sc];\n",
    "        if num==color :  # 将图中所有的2变成2，不用运算。\n",
    "            return image;\n",
    "        def dfs(r,c) :\n",
    "            if image[r][c]==num :\n",
    "                image[r][c]=color;\n",
    "                if r>=1 :\n",
    "                    dfs(r-1,c); #上\n",
    "                if r+1<R :\n",
    "                    dfs(r+1,c); #下\n",
    "                if c>=1 :\n",
    "                    dfs(r,c-1); #左\n",
    "                if c+1<C : \n",
    "                    dfs(r,c+1); #右\n",
    "            return image;\n",
    "        dfs(sr,sc);\n",
    "        return image;"
   ]
  },
  {
   "cell_type": "code",
   "execution_count": 1,
   "metadata": {},
   "outputs": [
    {
     "data": {
      "text/plain": [
       "3"
      ]
     },
     "execution_count": 1,
     "metadata": {},
     "output_type": "execute_result"
    }
   ],
   "source": [
    "len([[1,1,1],[1,1,0],[1,0,1]])"
   ]
  }
 ],
 "metadata": {
  "kernelspec": {
   "display_name": "Python 3.7.0 64-bit",
   "language": "python",
   "name": "python3"
  },
  "language_info": {
   "codemirror_mode": {
    "name": "ipython",
    "version": 3
   },
   "file_extension": ".py",
   "mimetype": "text/x-python",
   "name": "python",
   "nbconvert_exporter": "python",
   "pygments_lexer": "ipython3",
   "version": "3.7.0"
  },
  "orig_nbformat": 4,
  "vscode": {
   "interpreter": {
    "hash": "4ce603e464ab8bc3b3026eca193cff58a3d0088e762350a5b5a6a879ef843154"
   }
  }
 },
 "nbformat": 4,
 "nbformat_minor": 2
}
