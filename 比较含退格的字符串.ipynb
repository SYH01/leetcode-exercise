{
 "cells": [
  {
   "cell_type": "code",
   "execution_count": null,
   "metadata": {},
   "outputs": [],
   "source": [
    "import collections;\n",
    "\n",
    "class Solution:\n",
    "    def backspaceCompare(self, s: str, t: str) -> bool:\n",
    "        q1=collections.deque();\n",
    "        q2=collections.deque();\n",
    "        for i in s:\n",
    "            if i==\"#\":\n",
    "                if q1:\n",
    "                    q1.pop();\n",
    "                else:\n",
    "                    None;\n",
    "            else:\n",
    "                q1.append(i);\n",
    "        for i in t:\n",
    "            if i==\"#\":\n",
    "                if q2:\n",
    "                    q2.pop();\n",
    "                else:\n",
    "                    None;\n",
    "            else:\n",
    "                q2.append(i);\n",
    "        if q1==q2:\n",
    "            return True;\n",
    "        else:\n",
    "            return False;"
   ]
  }
 ],
 "metadata": {
  "language_info": {
   "name": "python"
  },
  "orig_nbformat": 4
 },
 "nbformat": 4,
 "nbformat_minor": 2
}
