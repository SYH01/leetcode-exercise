{
 "cells": [
  {
   "cell_type": "code",
   "execution_count": null,
   "metadata": {},
   "outputs": [],
   "source": [
    "from typing import List\n",
    "\n",
    "\n",
    "class Solution:\n",
    "    def twoSum(self, nums: List[int], target: int) -> List[int]:\n",
    "        def getAB(A,B):\n",
    "            a,b=-1,-1;\n",
    "            for i in range(len(nums)):\n",
    "                if nums[i]==A:\n",
    "                    a=i;\n",
    "                    break;\n",
    "            for i in range(len(nums)-1,-1,-1):\n",
    "                if nums[i]==B:\n",
    "                    b=i;\n",
    "                    break;\n",
    "            return [a,b];\n",
    "        \n",
    "        a=sorted(nums);\n",
    "        left,right=0,len(a)-1;\n",
    "        while left<right:\n",
    "            if a[left]+a[right]==target:\n",
    "                return getAB(a[left],a[right]);\n",
    "            elif a[left]+a[right]>target:\n",
    "                right-=1;\n",
    "            else:\n",
    "                left+=1;\n",
    "\n",
    "        "
   ]
  },
  {
   "cell_type": "code",
   "execution_count": 1,
   "metadata": {},
   "outputs": [
    {
     "name": "stdout",
     "output_type": "stream",
     "text": [
      "[1, 2, 3, 4] [1, 2, 3, 4]\n"
     ]
    }
   ],
   "source": [
    "b=[2,1,3,4];\n",
    "c=sorted(b);\n",
    "b.sort();\n",
    "print(c,b);"
   ]
  }
 ],
 "metadata": {
  "kernelspec": {
   "display_name": "Python 3.7.0 64-bit",
   "language": "python",
   "name": "python3"
  },
  "language_info": {
   "codemirror_mode": {
    "name": "ipython",
    "version": 3
   },
   "file_extension": ".py",
   "mimetype": "text/x-python",
   "name": "python",
   "nbconvert_exporter": "python",
   "pygments_lexer": "ipython3",
   "version": "3.7.0"
  },
  "orig_nbformat": 4,
  "vscode": {
   "interpreter": {
    "hash": "4ce603e464ab8bc3b3026eca193cff58a3d0088e762350a5b5a6a879ef843154"
   }
  }
 },
 "nbformat": 4,
 "nbformat_minor": 2
}
