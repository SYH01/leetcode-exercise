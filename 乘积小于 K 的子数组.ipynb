{
 "cells": [
  {
   "cell_type": "code",
   "execution_count": 1,
   "metadata": {},
   "outputs": [],
   "source": [
    "from typing import List;\n",
    "####对于一个长度为n的数组，其连续子数组的数目为n*(n+1)/2。\n",
    "class Solution:\n",
    "    def numSubarrayProductLessThanK(self, nums: List[int], k: int) -> int:\n",
    "        len_nums=len(nums);\n",
    "        ans=0;\n",
    "        num=1;\n",
    "        for i in range(len_nums):\n",
    "            num=num*nums[i];\n",
    "        if num<k:\n",
    "            return len_nums*(len_nums+1)//2;\n",
    "        for i in range(len_nums):\n",
    "            sum=1;\n",
    "            for j in range(len_nums-i):\n",
    "                sum=sum*nums[i+j];\n",
    "                if sum<k:\n",
    "                    ans+=1;\n",
    "                else:\n",
    "                    break;\n",
    "        return ans;"
   ]
  },
  {
   "cell_type": "code",
   "execution_count": null,
   "metadata": {},
   "outputs": [],
   "source": [
    "#超时，超时\n",
    "class Solution:\n",
    "    def numSubarrayProductLessThanK(self, nums: List[int], k: int) -> int:\n",
    "        len_nums=len(nums);\n",
    "        ans=0;\n",
    "        for i in range(len_nums):  #控制长度\n",
    "            sum=1;\n",
    "            for p in range(i+1):    #一定长度的元素乘积\n",
    "                sum*=nums[p];\n",
    "            if sum<k:\n",
    "                ans+=1;\n",
    "            for j in range(1,len_nums-i):  #控制运行到最后几位\n",
    "                sum=sum//nums[j-1];\n",
    "                sum=sum*nums[j+i];\n",
    "                if sum<k:\n",
    "                    ans+=1;\n",
    "        return ans;"
   ]
  },
  {
   "cell_type": "code",
   "execution_count": 4,
   "metadata": {},
   "outputs": [
    {
     "name": "stdout",
     "output_type": "stream",
     "text": [
      "0\n"
     ]
    }
   ],
   "source": [
    "nums=[10,5,2,6];\n",
    "k=100;\n",
    "s=Solution();\n",
    "r=s.numSubarrayProductLessThanK(nums,k);\n",
    "print(r);"
   ]
  }
 ],
 "metadata": {
  "kernelspec": {
   "display_name": "Python 3.7.0 64-bit",
   "language": "python",
   "name": "python3"
  },
  "language_info": {
   "codemirror_mode": {
    "name": "ipython",
    "version": 3
   },
   "file_extension": ".py",
   "mimetype": "text/x-python",
   "name": "python",
   "nbconvert_exporter": "python",
   "pygments_lexer": "ipython3",
   "version": "3.7.0"
  },
  "orig_nbformat": 4,
  "vscode": {
   "interpreter": {
    "hash": "4ce603e464ab8bc3b3026eca193cff58a3d0088e762350a5b5a6a879ef843154"
   }
  }
 },
 "nbformat": 4,
 "nbformat_minor": 2
}
