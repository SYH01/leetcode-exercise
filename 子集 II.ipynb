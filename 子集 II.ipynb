{
 "cells": [
  {
   "cell_type": "code",
   "execution_count": null,
   "metadata": {},
   "outputs": [],
   "source": [
    "from typing import List\n",
    "\n",
    "\n",
    "class Solution:\n",
    "    def subsetsWithDup(self, nums: List[int]) -> List[List[int]]:\n",
    "        length=len(nums);\n",
    "        nums.sort();\n",
    "        ans=list();\n",
    "        ans.append([]);\n",
    "        for i in range(length):\n",
    "            for j in range(len(ans)):\n",
    "                temp=ans[j]+[nums[i]];\n",
    "                if temp not in ans:\n",
    "                    ans.append(temp);\n",
    "        return ans;"
   ]
  }
 ],
 "metadata": {
  "kernelspec": {
   "display_name": "Python 3.7.0 64-bit",
   "language": "python",
   "name": "python3"
  },
  "language_info": {
   "name": "python",
   "version": "3.7.0"
  },
  "orig_nbformat": 4,
  "vscode": {
   "interpreter": {
    "hash": "4ce603e464ab8bc3b3026eca193cff58a3d0088e762350a5b5a6a879ef843154"
   }
  }
 },
 "nbformat": 4,
 "nbformat_minor": 2
}
