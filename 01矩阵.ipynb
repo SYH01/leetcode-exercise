{
 "cells": [
  {
   "cell_type": "code",
   "execution_count": null,
   "metadata": {},
   "outputs": [],
   "source": [
    "import collections;\n",
    "\n",
    "class Solution:\n",
    "    def updateMatrix(self, mat: List[List[int]]) -> List[List[int]]:\n",
    "        l=mat*1;\n",
    "        R=len(mat);\n",
    "        C=len(mat[0]);\n",
    "        q=collections.deque();\n",
    "        for i in range(R):\n",
    "            for j in range(C):\n",
    "                if mat[i][j]==0:\n",
    "                    l[i][j]=0;\n",
    "                    q.append([i,j]);\n",
    "                else:\n",
    "                    l[i][j]=False;\n",
    "        while q:\n",
    "            pl=q.popleft();\n",
    "            a,b=pl[0],pl[1];\n",
    "            \n",
    "            if a-1>=0:\n",
    "                if l[a-1][b] is False:\n",
    "                    l[a-1][b]=l[a][b]+1;\n",
    "                    q.append([a-1,b]);\n",
    "            if a+1<R:\n",
    "                if l[a+1][b] is False:\n",
    "                    l[a+1][b]=l[a][b]+1;\n",
    "                    q.append([a+1,b]);\n",
    "            if b-1>=0:\n",
    "                if l[a][b-1] is False:\n",
    "                    l[a][b-1]=l[a][b]+1;\n",
    "                    q.append([a,b-1]);\n",
    "            if b+1<C:\n",
    "                if l[a][b+1] is False:\n",
    "                    l[a][b+1]=l[a][b]+1;\n",
    "                    q.append([a,b+1]);\n",
    "        return l;"
   ]
  },
  {
   "cell_type": "code",
   "execution_count": 1,
   "metadata": {},
   "outputs": [
    {
     "data": {
      "text/plain": [
       "[1]"
      ]
     },
     "execution_count": 1,
     "metadata": {},
     "output_type": "execute_result"
    }
   ],
   "source": [
    "ss=[False]\n",
    "ss[0]=1;\n",
    "ss"
   ]
  }
 ],
 "metadata": {
  "kernelspec": {
   "display_name": "Python 3.7.0 64-bit",
   "language": "python",
   "name": "python3"
  },
  "language_info": {
   "codemirror_mode": {
    "name": "ipython",
    "version": 3
   },
   "file_extension": ".py",
   "mimetype": "text/x-python",
   "name": "python",
   "nbconvert_exporter": "python",
   "pygments_lexer": "ipython3",
   "version": "3.7.0"
  },
  "orig_nbformat": 4,
  "vscode": {
   "interpreter": {
    "hash": "4ce603e464ab8bc3b3026eca193cff58a3d0088e762350a5b5a6a879ef843154"
   }
  }
 },
 "nbformat": 4,
 "nbformat_minor": 2
}
