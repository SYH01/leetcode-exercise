{
 "cells": [
  {
   "cell_type": "code",
   "execution_count": 25,
   "metadata": {},
   "outputs": [],
   "source": [
    "#简单的排序法\n",
    "# 下面有双指针法\n",
    "class Solution:\n",
    "    def positiveNum(self,_num: int) ->int :\n",
    "        if _num>=0 :\n",
    "            return _num;\n",
    "        else :\n",
    "            return -_num;\n",
    "\n",
    "    def sortedSquares(self, nums: List[int]) -> List[int]:\n",
    "        for i in range(len(nums)) :\n",
    "            nums[i]=self.positiveNum(nums[i]);\n",
    "\n",
    "        a=sorted(nums);\n",
    "        for i in range(len(nums)) :\n",
    "            a[i]=a[i]**2;\n",
    "        return a;\n",
    "        # for i in range(len(nums)) :\n",
    "        #     for j in range(i+1,len(nums)) :\n",
    "        #         if nums[i]>nums[j] :\n",
    "        #             temp=nums[i];\n",
    "        #             nums[i]=nums[j];\n",
    "        #             nums[j]=temp;\n",
    "        #     nums[i]=nums[i]**2;\n",
    "        "
   ]
  },
  {
   "cell_type": "code",
   "execution_count": 61,
   "metadata": {},
   "outputs": [],
   "source": [
    "# 双指针法\n",
    "class Solution:\n",
    "    def sortedSquares(self, nums: List[int]) -> List[int]:\n",
    "        i,j=0,len(nums)-1;\n",
    "        result=nums*1;\n",
    "        k=len(nums)-1;\n",
    "        while i<j :\n",
    "            if nums[i]**2>nums[j]**2 :\n",
    "                result[k]=nums[i]**2;\n",
    "                i+=1;\n",
    "            else :\n",
    "                result[k]=nums[j]**2;\n",
    "                j-=1;\n",
    "            k-=1;\n",
    "        result[k]=nums[i]**2;\n",
    "        return result;"
   ]
  },
  {
   "cell_type": "code",
   "execution_count": 62,
   "metadata": {},
   "outputs": [
    {
     "data": {
      "text/plain": [
       "[0, 1, 9, 16, 100]"
      ]
     },
     "execution_count": 62,
     "metadata": {},
     "output_type": "execute_result"
    }
   ],
   "source": [
    "s=Solution();\n",
    "s.sortedSquares([-4,-1,0,3,10])"
   ]
  },
  {
   "cell_type": "code",
   "execution_count": 57,
   "metadata": {},
   "outputs": [
    {
     "data": {
      "text/plain": [
       "0"
      ]
     },
     "execution_count": 57,
     "metadata": {},
     "output_type": "execute_result"
    }
   ],
   "source": [
    "c=[1,2,3]\n",
    "d=c*1;\n",
    "d[0]=0;\n",
    "d[0]"
   ]
  }
 ],
 "metadata": {
  "kernelspec": {
   "display_name": "Python 3.7.0 64-bit",
   "language": "python",
   "name": "python3"
  },
  "language_info": {
   "codemirror_mode": {
    "name": "ipython",
    "version": 3
   },
   "file_extension": ".py",
   "mimetype": "text/x-python",
   "name": "python",
   "nbconvert_exporter": "python",
   "pygments_lexer": "ipython3",
   "version": "3.7.0"
  },
  "orig_nbformat": 4,
  "vscode": {
   "interpreter": {
    "hash": "4ce603e464ab8bc3b3026eca193cff58a3d0088e762350a5b5a6a879ef843154"
   }
  }
 },
 "nbformat": 4,
 "nbformat_minor": 2
}
