{
 "cells": [
  {
   "cell_type": "code",
   "execution_count": 2,
   "metadata": {},
   "outputs": [],
   "source": [
    "class Solution:\n",
    "    def checkInclusion(self, s1: str, s2: str) -> bool:\n",
    "        left=0;\n",
    "        num,sum,_count=0,0,0;\n",
    "        for i in range(len(s1)) :\n",
    "            sum+=ord(s1[i]);\n",
    "        for left in range(len(s2)-len(s1)+1) :\n",
    "            for i in range(len(s1)) :\n",
    "                num+=ord(s2[i+left]);\n",
    "            if num==sum :\n",
    "                for j in range(len(s1)) :\n",
    "                    if s1.count(s1[j])==s2.count(s1[j],left,left+len(s1)) :\n",
    "                        _count+=1;\n",
    "                    else :\n",
    "                        break;\n",
    "                if _count==len(s1):\n",
    "                    return True;\n",
    "                else :\n",
    "                    _count=0;\n",
    "            else :\n",
    "                num=0;\n",
    "            left+=1;\n",
    "        return False;"
   ]
  },
  {
   "cell_type": "code",
   "execution_count": 3,
   "metadata": {},
   "outputs": [
    {
     "name": "stdout",
     "output_type": "stream",
     "text": [
      "True\n"
     ]
    }
   ],
   "source": [
    "s=Solution();\n",
    "s1=\"adc\";\n",
    "s2=\"dcda\";\n",
    "print(s.checkInclusion(s1,s2));"
   ]
  },
  {
   "cell_type": "code",
   "execution_count": 2,
   "metadata": {},
   "outputs": [
    {
     "name": "stdout",
     "output_type": "stream",
     "text": [
      "4\n"
     ]
    }
   ],
   "source": [
    "str1=\"abcd\"\n",
    "print(len(\"str1\"))"
   ]
  }
 ],
 "metadata": {
  "kernelspec": {
   "display_name": "Python 3.7.0 64-bit",
   "language": "python",
   "name": "python3"
  },
  "language_info": {
   "codemirror_mode": {
    "name": "ipython",
    "version": 3
   },
   "file_extension": ".py",
   "mimetype": "text/x-python",
   "name": "python",
   "nbconvert_exporter": "python",
   "pygments_lexer": "ipython3",
   "version": "3.7.0"
  },
  "orig_nbformat": 4,
  "vscode": {
   "interpreter": {
    "hash": "4ce603e464ab8bc3b3026eca193cff58a3d0088e762350a5b5a6a879ef843154"
   }
  }
 },
 "nbformat": 4,
 "nbformat_minor": 2
}
