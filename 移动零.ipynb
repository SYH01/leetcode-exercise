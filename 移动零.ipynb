{
 "cells": [
  {
   "cell_type": "code",
   "execution_count": null,
   "metadata": {},
   "outputs": [],
   "source": [
    "class Solution:\n",
    "    def moveZeroes(self, nums: List[int]) -> None:\n",
    "        right=len(nums)-1;\n",
    "        a=nums*1;\n",
    "        i=0;\n",
    "        for j in range(len(nums)) :\n",
    "            if a[j]==0 :\n",
    "                nums[right]=0;\n",
    "                right-=1;\n",
    "            else :\n",
    "                nums[i]=a[j];\n",
    "                i+=1;"
   ]
  }
 ],
 "metadata": {
  "language_info": {
   "name": "python"
  },
  "orig_nbformat": 4
 },
 "nbformat": 4,
 "nbformat_minor": 2
}
