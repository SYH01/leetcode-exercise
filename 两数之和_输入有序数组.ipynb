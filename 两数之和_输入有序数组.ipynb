{
 "cells": [
  {
   "cell_type": "code",
   "execution_count": 26,
   "metadata": {},
   "outputs": [],
   "source": [
    "from typing import List\n",
    "# 暴力算法超时 \n",
    "class Solution:\n",
    "    def twoSum(self, numbers: List[int], target: int) -> List[int]:\n",
    "        index1,index2=0,1;\n",
    "        \n",
    "        while index1<index2 :\n",
    "            for index2 in range(index1+1,len(numbers)) :\n",
    "                if target==numbers[index1]+numbers[index2] :\n",
    "                    return [index1+1,index2+1];\n",
    "            index1+=1;"
   ]
  },
  {
   "cell_type": "code",
   "execution_count": 33,
   "metadata": {},
   "outputs": [],
   "source": [
    "# 双指针，头尾相加，非递减数列\n",
    "class Solution:\n",
    "    def twoSum(self, numbers: List[int], target: int) -> List[int]:\n",
    "        left,right=0,len(numbers)-1;\n",
    "        while left<right :\n",
    "            if numbers[left]+numbers[right]<target :\n",
    "                left+=1;\n",
    "            elif numbers[left]+numbers[right]>target :\n",
    "                right-=1;\n",
    "            else :\n",
    "                return [left+1,right+1];\n",
    "                "
   ]
  }
 ],
 "metadata": {
  "kernelspec": {
   "display_name": "Python 3.7.0 64-bit",
   "language": "python",
   "name": "python3"
  },
  "language_info": {
   "codemirror_mode": {
    "name": "ipython",
    "version": 3
   },
   "file_extension": ".py",
   "mimetype": "text/x-python",
   "name": "python",
   "nbconvert_exporter": "python",
   "pygments_lexer": "ipython3",
   "version": "3.7.0"
  },
  "orig_nbformat": 4,
  "vscode": {
   "interpreter": {
    "hash": "4ce603e464ab8bc3b3026eca193cff58a3d0088e762350a5b5a6a879ef843154"
   }
  }
 },
 "nbformat": 4,
 "nbformat_minor": 2
}
