{
 "cells": [
  {
   "cell_type": "code",
   "execution_count": null,
   "metadata": {},
   "outputs": [],
   "source": [
    "from typing import List\n",
    "\n",
    "\n",
    "class Solution:\n",
    "    def intervalIntersection(self, firstList: List[List[int]], secondList: List[List[int]]) -> List[List[int]]:\n",
    "        i,j=0,0;\n",
    "        result=[];\n",
    "        while i in range(len(firstList)) and j in range(len(secondList)):\n",
    "            Max=max(firstList[i][0],secondList[j][0]);\n",
    "            Min=min(firstList[i][1],secondList[j][1]);\n",
    "            if Max<=Min:\n",
    "                result.append([Max,Min]);\n",
    "            \n",
    "            if firstList[i][1]>secondList[j][1]:\n",
    "                j+=1;\n",
    "            else:\n",
    "                i+=1;\n",
    "        return result;"
   ]
  },
  {
   "cell_type": "code",
   "execution_count": 11,
   "metadata": {},
   "outputs": [
    {
     "name": "stdout",
     "output_type": "stream",
     "text": [
      "i 0\n",
      "j 0\n",
      "i 1\n",
      "j 1\n",
      "i 2\n",
      "j 2\n"
     ]
    }
   ],
   "source": [
    "i,j=0,0;\n",
    "while i in range(3) and j in range(5):\n",
    "    print(\"i\",i);\n",
    "    print(\"j\",j);\n",
    "    i+=1;\n",
    "    j+=1;\n",
    "    "
   ]
  }
 ],
 "metadata": {
  "kernelspec": {
   "display_name": "Python 3.7.0 64-bit",
   "language": "python",
   "name": "python3"
  },
  "language_info": {
   "codemirror_mode": {
    "name": "ipython",
    "version": 3
   },
   "file_extension": ".py",
   "mimetype": "text/x-python",
   "name": "python",
   "nbconvert_exporter": "python",
   "pygments_lexer": "ipython3",
   "version": "3.7.0"
  },
  "orig_nbformat": 4,
  "vscode": {
   "interpreter": {
    "hash": "4ce603e464ab8bc3b3026eca193cff58a3d0088e762350a5b5a6a879ef843154"
   }
  }
 },
 "nbformat": 4,
 "nbformat_minor": 2
}
