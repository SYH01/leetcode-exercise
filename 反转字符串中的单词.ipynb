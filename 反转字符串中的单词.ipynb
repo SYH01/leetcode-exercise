{
 "cells": [
  {
   "cell_type": "code",
   "execution_count": 42,
   "metadata": {},
   "outputs": [],
   "source": [
    "from typing import List\n",
    "\n",
    "class Solution:\n",
    "    # 反转列表的方法\n",
    "    def reverseString(self, s: List[str],left,right) -> None:\n",
    "        if left>=right :\n",
    "            print(\"error!\");\n",
    "        while left<right :\n",
    "            temp=s[left];\n",
    "            s[left]=s[right];\n",
    "            s[right]=temp;\n",
    "            left+=1;\n",
    "            right-=1;\n",
    "    ## 选择特定的位置进行反转\n",
    "    def reverseWords(self, s: str) -> str:\n",
    "        left,right=0,len(s)-1;\n",
    "        a=list(s);\n",
    "        for i in range(len(a)) :\n",
    "            if a[i]==\" \" :\n",
    "                right=i-1;\n",
    "                self.reverseString(a,left,right);\n",
    "                left=i+1;\n",
    "        right=len(a)-1;\n",
    "        self.reverseString(a,left,right);\n",
    "        b=\"\".join(a);\n",
    "        return b;"
   ]
  },
  {
   "cell_type": "code",
   "execution_count": 41,
   "metadata": {},
   "outputs": [
    {
     "name": "stdout",
     "output_type": "stream",
     "text": [
      "cde\n"
     ]
    }
   ],
   "source": [
    "# s=Solution();\n",
    "# a=list(\"hello syh\");\n",
    "# s.reverseString(a);\n",
    "# print(a);\n",
    "# if chr(32)==\" \" :\n",
    "#     print(\"aaa\")\n",
    "aaa=['c',\"d\",\"e\"];\n",
    "b=\"\".join(aaa);\n",
    "print(b)\n"
   ]
  }
 ],
 "metadata": {
  "kernelspec": {
   "display_name": "Python 3.7.0 64-bit",
   "language": "python",
   "name": "python3"
  },
  "language_info": {
   "codemirror_mode": {
    "name": "ipython",
    "version": 3
   },
   "file_extension": ".py",
   "mimetype": "text/x-python",
   "name": "python",
   "nbconvert_exporter": "python",
   "pygments_lexer": "ipython3",
   "version": "3.7.0"
  },
  "orig_nbformat": 4,
  "vscode": {
   "interpreter": {
    "hash": "4ce603e464ab8bc3b3026eca193cff58a3d0088e762350a5b5a6a879ef843154"
   }
  }
 },
 "nbformat": 4,
 "nbformat_minor": 2
}
