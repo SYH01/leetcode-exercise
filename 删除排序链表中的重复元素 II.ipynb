{
 "cells": [
  {
   "cell_type": "code",
   "execution_count": null,
   "metadata": {},
   "outputs": [],
   "source": [
    "# Definition for singly-linked list.\n",
    "from typing import Optional\n",
    "\n",
    "\n",
    "class ListNode:\n",
    "    def __init__(self, val=0, next=None):\n",
    "        self.val = val\n",
    "        self.next = next\n",
    "        \n",
    "class Solution:\n",
    "    def deleteDuplicates(self, head: Optional[ListNode]) -> Optional[ListNode]:\n",
    "        if not head:\n",
    "            return head;\n",
    "        p=ListNode(0,head);\n",
    "        while p.next and p.next.next:\n",
    "            if p.next.val==p.next.next.val:\n",
    "                x=p.next.val;\n",
    "                while p.next and p.next.val==x:\n",
    "                    p.next=p.next.next;\n",
    "            else:\n",
    "                p=p.next;\n",
    "        return head;"
   ]
  }
 ],
 "metadata": {
  "language_info": {
   "name": "python"
  },
  "orig_nbformat": 4
 },
 "nbformat": 4,
 "nbformat_minor": 2
}
