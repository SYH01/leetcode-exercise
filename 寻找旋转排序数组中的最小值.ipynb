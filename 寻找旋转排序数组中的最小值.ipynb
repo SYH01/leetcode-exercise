{
 "cells": [
  {
   "cell_type": "code",
   "execution_count": null,
   "metadata": {},
   "outputs": [],
   "source": [
    "from typing import List\n",
    "\n",
    "\n",
    "class Solution:\n",
    "    def findMin(self, nums: List[int]) -> int:\n",
    "        def getMin(a,b):\n",
    "            if a<=b:\n",
    "                return a;\n",
    "            else:\n",
    "                return b;\n",
    "        min=0;\n",
    "        l=len(nums);\n",
    "        left,right=0,l-1;\n",
    "        mid=(left+right)//2;\n",
    "        min=nums[l-1];\n",
    "        while left<=right:\n",
    "            if nums[mid]>nums[l-1]:\n",
    "                left=mid+1;\n",
    "            else:\n",
    "                right=mid-1;\n",
    "            min=getMin(min,nums[mid]);\n",
    "            mid=(left+right)//2;\n",
    "        return min;"
   ]
  }
 ],
 "metadata": {
  "kernelspec": {
   "display_name": "Python 3.7.0 64-bit",
   "language": "python",
   "name": "python3"
  },
  "language_info": {
   "name": "python",
   "version": "3.7.0"
  },
  "orig_nbformat": 4,
  "vscode": {
   "interpreter": {
    "hash": "4ce603e464ab8bc3b3026eca193cff58a3d0088e762350a5b5a6a879ef843154"
   }
  }
 },
 "nbformat": 4,
 "nbformat_minor": 2
}
