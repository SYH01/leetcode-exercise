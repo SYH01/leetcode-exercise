{
 "cells": [
  {
   "cell_type": "code",
   "execution_count": 29,
   "metadata": {},
   "outputs": [],
   "source": [
    "from typing import List;\n",
    "\n",
    "class Solution:\n",
    "    def maxAreaOfIsland(self, grid: List[List[int]]) -> int:\n",
    "        R,C=len(grid),len(grid[0]);\n",
    "        count=grid*1;\n",
    "        \n",
    "        _max=0;\n",
    "        \n",
    "        def dfs(r,c,i) :\n",
    "            if grid[r][c]==1 and count[r][c] is not True :\n",
    "                count[r][c]=True;\n",
    "                if r>=1 :\n",
    "                    i=dfs(r-1,c,i); #up\n",
    "                if r+1<R :\n",
    "                    i=dfs(r+1,c,i); #down\n",
    "                if c>=1 :\n",
    "                    i=dfs(r,c-1,i); #left\n",
    "                if c+1<C :\n",
    "                    i=dfs(r,c+1,i); #right\n",
    "                i+=1;\n",
    "                return i;\n",
    "            else :\n",
    "                return i;\n",
    "\n",
    "        for a in range(R) :\n",
    "            for b in range(C) :\n",
    "                if grid[a][b]==1 and count[a][b] is not True :\n",
    "                    i=0;\n",
    "                    _max=max(_max,dfs(a,b,i));\n",
    "                    \n",
    "        return _max;"
   ]
  },
  {
   "cell_type": "code",
   "execution_count": 30,
   "metadata": {},
   "outputs": [
    {
     "name": "stdout",
     "output_type": "stream",
     "text": [
      "6\n"
     ]
    }
   ],
   "source": [
    "s=Solution();\n",
    "g=[[0,0,1,0,0,0,0,1,0,0,0,0,0],[0,0,0,0,0,0,0,1,1,1,0,0,0],[0,1,1,0,1,0,0,0,0,0,0,0,0],[0,1,0,0,1,1,0,0,1,0,1,0,0],[0,1,0,0,1,1,0,0,1,1,1,0,0],[0,0,0,0,0,0,0,0,0,0,1,0,0],[0,0,0,0,0,0,0,1,1,1,0,0,0],[0,0,0,0,0,0,0,1,1,0,0,0,0]]\n",
    "print(s.maxAreaOfIsland(g));"
   ]
  }
 ],
 "metadata": {
  "kernelspec": {
   "display_name": "Python 3.7.0 64-bit",
   "language": "python",
   "name": "python3"
  },
  "language_info": {
   "codemirror_mode": {
    "name": "ipython",
    "version": 3
   },
   "file_extension": ".py",
   "mimetype": "text/x-python",
   "name": "python",
   "nbconvert_exporter": "python",
   "pygments_lexer": "ipython3",
   "version": "3.7.0"
  },
  "orig_nbformat": 4,
  "vscode": {
   "interpreter": {
    "hash": "4ce603e464ab8bc3b3026eca193cff58a3d0088e762350a5b5a6a879ef843154"
   }
  }
 },
 "nbformat": 4,
 "nbformat_minor": 2
}
