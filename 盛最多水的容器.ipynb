{
 "cells": [
  {
   "cell_type": "code",
   "execution_count": null,
   "metadata": {},
   "outputs": [],
   "source": [
    "from typing import List\n",
    "\n",
    "\n",
    "class Solution:\n",
    "    def maxArea(self, height: List[int]) -> int:\n",
    "        i,j=0,len(height)-1;\n",
    "        Max=0;\n",
    "        while i<j:\n",
    "            a=min(height[i],height[j])*(j-i);\n",
    "            Max=max(Max,a);\n",
    "            if height[i]<=height[j]:\n",
    "                i+=1;\n",
    "            else:\n",
    "                j-=1;\n",
    "        return Max;"
   ]
  }
 ],
 "metadata": {
  "language_info": {
   "name": "python"
  },
  "orig_nbformat": 4
 },
 "nbformat": 4,
 "nbformat_minor": 2
}
