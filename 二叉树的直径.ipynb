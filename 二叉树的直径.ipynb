{
 "cells": [
  {
   "cell_type": "code",
   "execution_count": null,
   "metadata": {},
   "outputs": [],
   "source": [
    "# Definition for a binary tree node.\n",
    "\n",
    "from typing import Optional\n",
    "import collections\n",
    "class TreeNode:\n",
    "    def __init__(self, val=0, left=None, right=None):\n",
    "        self.val = val\n",
    "        self.left = left\n",
    "        self.right = right\n",
    "\n",
    "\n",
    "\n",
    "class Solution:\n",
    "    def diameterOfBinaryTree(self, root: Optional[TreeNode]) -> int:\n",
    "        self.max=0;\n",
    "        def depth(node:Optional[TreeNode])->int:\n",
    "            if not node:\n",
    "                return 0;\n",
    "            L=depth(node.left);\n",
    "            R=depth(node.right);\n",
    "            self.max=max(self.max,L+R);\n",
    "            return max(L,R)+1;\n",
    "        depth(root);\n",
    "        return self.max;\n"
   ]
  }
 ],
 "metadata": {
  "language_info": {
   "name": "python"
  },
  "orig_nbformat": 4
 },
 "nbformat": 4,
 "nbformat_minor": 2
}
