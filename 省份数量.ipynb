{
 "cells": [
  {
   "cell_type": "code",
   "execution_count": null,
   "metadata": {},
   "outputs": [],
   "source": [
    "from typing import List\n",
    "\n",
    "\n",
    "class Solution:\n",
    "    def findCircleNum(self, isConnected: List[List[int]]) -> int:\n",
    "        cityNums=len(isConnected);\n",
    "        isTrue=[False for i in range(cityNums)];\n",
    "        count=0;\n",
    "        \n",
    "        def dfs(i):\n",
    "            for j in range(cityNums):\n",
    "                if isConnected[i][j]==1 and not isTrue[j]:\n",
    "                    isTrue[j]=True;\n",
    "                    dfs(j);\n",
    "\n",
    "        for i in range(cityNums):\n",
    "            if not isTrue[i]:\n",
    "                isTrue[i]=True;\n",
    "                dfs(i);\n",
    "                count+=1;\n",
    "        return count;\n",
    "\n"
   ]
  }
 ],
 "metadata": {
  "language_info": {
   "name": "python"
  },
  "orig_nbformat": 4
 },
 "nbformat": 4,
 "nbformat_minor": 2
}
